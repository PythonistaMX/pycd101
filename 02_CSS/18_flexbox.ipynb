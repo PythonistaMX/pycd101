{
 "cells": [
  {
   "cell_type": "markdown",
   "metadata": {},
   "source": [
    "[![imagenes/pythonista.png](imagenes/pythonista.png)](https://pythonista.io)"
   ]
  },
  {
   "cell_type": "markdown",
   "metadata": {},
   "source": [
    "# Plantillas flexbox."
   ]
  },
  {
   "cell_type": "markdown",
   "metadata": {},
   "source": [
    "## Preliminares."
   ]
  },
  {
   "cell_type": "code",
   "execution_count": null,
   "metadata": {},
   "outputs": [],
   "source": [
    "%%html\n",
    "<style>\n",
    "    .contenedor {\n",
    "        border-style: solid;\n",
    "        height:300px;\n",
    "        \n",
    "         }\n",
    "    \n",
    "    .contenido_a {\n",
    "        border-style: solid;\n",
    "        border-color: blue;\n",
    "        text-align: center;\n",
    "        width: 30%;\n",
    "        min-height: 40px;\n",
    "    }\n",
    "    \n",
    "    .contenido_b {\n",
    "        border-style: solid;\n",
    "        border-color: red;\n",
    "        text-align: center;\n",
    "        width: 15%;\n",
    "        height: 80px;\n",
    "    }\n",
    "        \n",
    "    .contenido_c {\n",
    "        border-style: solid;\n",
    "        border-color: gold;\n",
    "        text-align: center;\n",
    "        width: 100px;\n",
    "        min-height: 90px;\n",
    "    }\n",
    "    \n",
    "    .contenido_d {\n",
    "        border-style: solid;\n",
    "        border-color: green;\n",
    "        text-align: center;\n",
    "        width: 30%;\n",
    "        height: 25%;\n",
    "    }\n",
    "    \n",
    "    .contenido_e {\n",
    "        border-style: solid;\n",
    "        border-color: brown;\n",
    "        text-align: center;\n",
    "        width: 80%;\n",
    "        min-height: 100px;\n",
    "    }\n",
    "</style>"
   ]
  },
  {
   "cell_type": "code",
   "execution_count": null,
   "metadata": {},
   "outputs": [],
   "source": [
    "%%html\n",
    "<div class=\"contenedor\">\n",
    "    <div class=\"contenido_a\">a</div>\n",
    "    <div class=\"contenido_b\">b</div>\n",
    "    <div class=\"contenido_c\">c</div>\n",
    "    <div class=\"contenido_d\">d</div>\n",
    "    <div class=\"contenido_e\">e</div>\n",
    "</div>"
   ]
  },
  {
   "cell_type": "markdown",
   "metadata": {},
   "source": [
    "## Definición de un contendor.\n",
    "\n",
    "Para poder definir un elmeneto contenedor de una plantilla de flexbox es necesario asignarle el valor ```flex``` a la propiedad ```display```.\n",
    "\n",
    "```\n",
    "display: flex;\n",
    "```"
   ]
  },
  {
   "cell_type": "code",
   "execution_count": null,
   "metadata": {},
   "outputs": [],
   "source": [
    "%%html\n",
    "<div id=\"contenedor_18-1\" class=\"contenedor\">\n",
    "    <div class=\"contenido_a\">a</div>\n",
    "    <div class=\"contenido_b\">b</div>\n",
    "    <div class=\"contenido_c\">c</div>\n",
    "    <div class=\"contenido_d\">d</div>\n",
    "    <div class=\"contenido_e\">e</div>\n",
    "</div>\n",
    "<style>\n",
    "    .contenedor {display: flex}\n",
    "</style>"
   ]
  },
  {
   "cell_type": "markdown",
   "metadata": {},
   "source": [
    "## Definición de la dirección de despliegue de los contenidos."
   ]
  },
  {
   "cell_type": "code",
   "execution_count": null,
   "metadata": {
    "scrolled": true
   },
   "outputs": [],
   "source": [
    "%%html\n",
    "<div id=\"contenedor_18-2\" class=\"contenedor\">\n",
    "    <div class=\"contenido_a\">a</div>\n",
    "    <div class=\"contenido_b\">b</div>\n",
    "    <div class=\"contenido_c\">c</div>\n",
    "    <div class=\"contenido_d\">d</div>\n",
    "    <div class=\"contenido_e\">e</div>\n",
    "</div>\n",
    "<style>\n",
    "    #contenedor_18-2 {flex-direction: column}\n",
    "</style>"
   ]
  },
  {
   "cell_type": "code",
   "execution_count": null,
   "metadata": {},
   "outputs": [],
   "source": [
    "%%html\n",
    "<div id=\"contenedor_18-3\" class=\"contenedor\">\n",
    "    <div class=\"contenido_a\">a</div>\n",
    "    <div class=\"contenido_b\">b</div>\n",
    "    <div class=\"contenido_c\">c</div>\n",
    "    <div class=\"contenido_d\">d</div>\n",
    "    <div class=\"contenido_e\">e</div>\n",
    "</div>\n",
    "<style>\n",
    "    #contenedor_18-3 {flex-direction: column-reverse}\n",
    "</style>"
   ]
  },
  {
   "cell_type": "code",
   "execution_count": null,
   "metadata": {},
   "outputs": [],
   "source": [
    "%%html\n",
    "<div id=\"contenedor_18-4\" class=\"contenedor\">\n",
    "    <div class=\"contenido_a\">a</div>\n",
    "    <div class=\"contenido_b\">b</div>\n",
    "    <div class=\"contenido_c\">c</div>\n",
    "    <div class=\"contenido_d\">d</div>\n",
    "    <div class=\"contenido_e\">e</div>\n",
    "</div>\n",
    "<style>\n",
    "    #contenedor_18-4 {flex-direction: row}\n",
    "</style>"
   ]
  },
  {
   "cell_type": "code",
   "execution_count": null,
   "metadata": {},
   "outputs": [],
   "source": [
    "%%html\n",
    "<div id=\"contenedor_18-5\" class=\"contenedor\">\n",
    "    <div class=\"contenido_a\">a</div>\n",
    "    <div class=\"contenido_b\">b</div>\n",
    "    <div class=\"contenido_c\">c</div>\n",
    "    <div class=\"contenido_d\">d</div>\n",
    "    <div class=\"contenido_e\">e</div>\n",
    "</div>\n",
    "<style>\n",
    "    #contenedor_18-5 {flex-direction: row-reverse}\n",
    "</style>"
   ]
  },
  {
   "cell_type": "markdown",
   "metadata": {},
   "source": [
    "## ```flex-wrap```"
   ]
  },
  {
   "cell_type": "code",
   "execution_count": null,
   "metadata": {},
   "outputs": [],
   "source": [
    "%%html\n",
    "<div id=\"contenedor_18-6\" class=\"contenedor\">\n",
    "    <div id=\"contenido_18-6a\" class=\"contenido_a\">a</div>\n",
    "    <div id=\"contenido_18-6b\" class=\"contenido_b\">b</div>\n",
    "    <div id=\"contenido_18-6c\" class=\"contenido_c\">c</div>\n",
    "    <div id=\"contenido_18-6d\" class=\"contenido_d\">d</div>\n",
    "    <div id=\"contenido_18-6e\" class=\"contenido_e\">e</div>\n",
    "</div>\n",
    "<style>\n",
    "    #contenedor_18-6 {flex-wrap: no-wrap}\n",
    "</style>"
   ]
  },
  {
   "cell_type": "code",
   "execution_count": null,
   "metadata": {
    "scrolled": true
   },
   "outputs": [],
   "source": [
    "%%html\n",
    "<div id=\"contenedor_18-7\" class=\"contenedor\">\n",
    "    <div id=\"contenido_18-7a\" class=\"contenido_a\">a</div>\n",
    "    <div id=\"contenido_18-7b\" class=\"contenido_b\">b</div>\n",
    "    <div id=\"contenido_18-7c\" class=\"contenido_c\">c</div>\n",
    "    <div id=\"contenido_18-7d\" class=\"contenido_d\">d</div>\n",
    "    <div id=\"contenido_18-7e\" class=\"contenido_e\">e</div>\n",
    "</div>\n",
    "<style>\n",
    "    #contenedor_18-7 {flex-wrap: wrap}\n",
    "</style>"
   ]
  },
  {
   "cell_type": "markdown",
   "metadata": {},
   "source": [
    "## ```justify-content```"
   ]
  },
  {
   "cell_type": "code",
   "execution_count": null,
   "metadata": {},
   "outputs": [],
   "source": [
    "%%html\n",
    "<div id=\"contenedor_18-8\" class=\"contenedor\">\n",
    "    <div id=\"contenido_18-8a\" class=\"contenido_a\">a</div>\n",
    "    <div id=\"contenido_18-8b\" class=\"contenido_b\">b</div>\n",
    "    <div id=\"contenido_18-8c\" class=\"contenido_c\">c</div>\n",
    "    <div id=\"contenido_18-8d\" class=\"contenido_d\">d</div>\n",
    "    <div id=\"contenido_18-8e\" class=\"contenido_e\">e</div>\n",
    "</div>\n",
    "<style>\n",
    "    #contenedor_18-8 {\n",
    "        flex-wrap: wrap;\n",
    "        justify-content: center;\n",
    "            }\n",
    "</style>"
   ]
  },
  {
   "cell_type": "code",
   "execution_count": null,
   "metadata": {},
   "outputs": [],
   "source": [
    "%%html\n",
    "<div id=\"contenedor_18-9\" class=\"contenedor\">\n",
    "    <div id=\"contenido_18-9a\" class=\"contenido_a\">a</div>\n",
    "    <div id=\"contenido_18-9b\" class=\"contenido_b\">b</div>\n",
    "    <div id=\"contenido_18-9c\" class=\"contenido_c\">c</div>\n",
    "    <div id=\"contenido_18-9d\" class=\"contenido_d\">d</div>\n",
    "    <div id=\"contenido_18-9e\" class=\"contenido_e\">e</div>\n",
    "</div>\n",
    "<style>\n",
    "    #contenedor_18-9 {\n",
    "        flex-wrap: wrap;\n",
    "        justify-content: flex-start;\n",
    "            }\n",
    "</style>"
   ]
  },
  {
   "cell_type": "code",
   "execution_count": null,
   "metadata": {},
   "outputs": [],
   "source": [
    "%%html\n",
    "<div id=\"contenedor_18-10\" class=\"contenedor\">\n",
    "    <div id=\"contenido_18-10a\" class=\"contenido_a\">a</div>\n",
    "    <div id=\"contenido_18-10b\" class=\"contenido_b\">b</div>\n",
    "    <div id=\"contenido_18-10c\" class=\"contenido_c\">c</div>\n",
    "    <div id=\"contenido_18-10d\" class=\"contenido_d\">d</div>\n",
    "    <div id=\"contenido_18-10e\" class=\"contenido_e\">e</div>\n",
    "</div>\n",
    "<style>\n",
    "    #contenedor_18-10 {\n",
    "        flex-wrap: wrap;\n",
    "        justify-content: flex-end;\n",
    "            }\n",
    "</style>"
   ]
  },
  {
   "cell_type": "code",
   "execution_count": null,
   "metadata": {},
   "outputs": [],
   "source": [
    "%%html\n",
    "<div id=\"contenedor_18-11\" class=\"contenedor\">\n",
    "    <div id=\"contenido_18-11a\" class=\"contenido_a\">a</div>\n",
    "    <div id=\"contenido_18-11b\" class=\"contenido_b\">b</div>\n",
    "    <div id=\"contenido_18-11c\" class=\"contenido_c\">c</div>\n",
    "    <div id=\"contenido_18-11d\" class=\"contenido_d\">d</div>\n",
    "    <div id=\"contenido_18-11e\" class=\"contenido_e\">e</div>\n",
    "</div>\n",
    "<style>\n",
    "    #contenedor_18-11 {\n",
    "        flex-wrap: wrap;\n",
    "        justify-content: space-around;\n",
    "            }\n",
    "</style>"
   ]
  },
  {
   "cell_type": "code",
   "execution_count": null,
   "metadata": {},
   "outputs": [],
   "source": [
    "%%html\n",
    "<div id=\"contenedor_18-12\" class=\"contenedor\">\n",
    "    <div id=\"contenido_18-12a\" class=\"contenido_a\">a</div>\n",
    "    <div id=\"contenido_18-12b\" class=\"contenido_b\">b</div>\n",
    "    <div id=\"contenido_18-12c\" class=\"contenido_c\">c</div>\n",
    "    <div id=\"contenido_18-12d\" class=\"contenido_d\">d</div>\n",
    "    <div id=\"contenido_18-12e\" class=\"contenido_e\">e</div>\n",
    "</div>\n",
    "<style>\n",
    "    #contenedor_18-12 {\n",
    "        flex-wrap: wrap;\n",
    "        justify-content: space-between;\n",
    "            }\n",
    "</style>"
   ]
  },
  {
   "cell_type": "code",
   "execution_count": null,
   "metadata": {},
   "outputs": [],
   "source": [
    "%%html\n",
    "<div id=\"contenedor_18-13\" class=\"contenedor\">\n",
    "    <div id=\"contenido_18-13a\" class=\"contenido_a\">a</div>\n",
    "    <div id=\"contenido_18-13b\" class=\"contenido_b\">b</div>\n",
    "    <div id=\"contenido_18-13c\" class=\"contenido_c\">c</div>\n",
    "    <div id=\"contenido_18-13d\" class=\"contenido_d\">d</div>\n",
    "    <div id=\"contenido_18-13e\" class=\"contenido_e\">e</div>\n",
    "</div>\n",
    "<style>\n",
    "    #contenedor_18-13 {\n",
    "        flex-wrap: wrap;\n",
    "        justify-content: stretch;\n",
    "            }\n",
    "</style>"
   ]
  },
  {
   "cell_type": "markdown",
   "metadata": {},
   "source": [
    "## ```align-content```"
   ]
  },
  {
   "cell_type": "code",
   "execution_count": null,
   "metadata": {},
   "outputs": [],
   "source": [
    "%%html\n",
    "<div id=\"contenedor_18-14\" class=\"contenedor\">\n",
    "    <div id=\"contenido_18-14a\" class=\"contenido_a\">a</div>\n",
    "    <div id=\"contenido_18-14b\" class=\"contenido_b\">b</div>\n",
    "    <div id=\"contenido_18-14c\" class=\"contenido_c\">c</div>\n",
    "    <div id=\"contenido_18-14d\" class=\"contenido_d\">d</div>\n",
    "    <div id=\"contenido_18-14e\" class=\"contenido_e\">e</div>\n",
    "</div>\n",
    "<style>\n",
    "    #contenedor_18-14 {\n",
    "        flex-wrap: wrap;\n",
    "        align-content: center;\n",
    "            }\n",
    "</style>"
   ]
  },
  {
   "cell_type": "code",
   "execution_count": null,
   "metadata": {},
   "outputs": [],
   "source": [
    "%%html\n",
    "<div id=\"contenedor_18-15\" class=\"contenedor\">\n",
    "    <div id=\"contenido_18-15a\" class=\"contenido_a\">a</div>\n",
    "    <div id=\"contenido_18-15b\" class=\"contenido_b\">b</div>\n",
    "    <div id=\"contenido_18-15c\" class=\"contenido_c\">c</div>\n",
    "    <div id=\"contenido_18-15d\" class=\"contenido_d\">d</div>\n",
    "    <div id=\"contenido_18-15e\" class=\"contenido_e\">e</div>\n",
    "</div>\n",
    "<style>\n",
    "    #contenedor_18-15 {\n",
    "        flex-wrap: wrap;\n",
    "        align-content: flex-start;\n",
    "            }\n",
    "</style>"
   ]
  },
  {
   "cell_type": "code",
   "execution_count": null,
   "metadata": {},
   "outputs": [],
   "source": [
    "%%html\n",
    "<div id=\"contenedor_18-16\" class=\"contenedor\">\n",
    "    <div id=\"contenido_18-16a\" class=\"contenido_a\">a</div>\n",
    "    <div id=\"contenido_18-16b\" class=\"contenido_b\">b</div>\n",
    "    <div id=\"contenido_18-16c\" class=\"contenido_c\">c</div>\n",
    "    <div id=\"contenido_18-16d\" class=\"contenido_d\">d</div>\n",
    "    <div id=\"contenido_18-16e\" class=\"contenido_e\">e</div>\n",
    "</div>\n",
    "<style>\n",
    "    #contenedor_18-16 {\n",
    "        flex-wrap: wrap;\n",
    "        align-content: flex-end;\n",
    "            }\n",
    "</style>"
   ]
  },
  {
   "cell_type": "code",
   "execution_count": null,
   "metadata": {
    "scrolled": true
   },
   "outputs": [],
   "source": [
    "%%html\n",
    "<div id=\"contenedor_18-17\" class=\"contenedor\">\n",
    "    <div id=\"contenido_18-17a\" class=\"contenido_a\">a</div>\n",
    "    <div id=\"contenido_18-17b\" class=\"contenido_b\">b</div>\n",
    "    <div id=\"contenido_18-17c\" class=\"contenido_c\">c</div>\n",
    "    <div id=\"contenido_18-17d\" class=\"contenido_d\">d</div>\n",
    "    <div id=\"contenido_18-17e\" class=\"contenido_e\">e</div>\n",
    "</div>\n",
    "<style>\n",
    "    #contenedor_18-17 {\n",
    "        flex-wrap: wrap;\n",
    "        align-content: space-around;\n",
    "            }\n",
    "</style>"
   ]
  },
  {
   "cell_type": "code",
   "execution_count": null,
   "metadata": {},
   "outputs": [],
   "source": [
    "%%html\n",
    "<div id=\"contenedor_18-18\" class=\"contenedor\">\n",
    "    <div id=\"contenido_18-18a\" class=\"contenido_a\">a</div>\n",
    "    <div id=\"contenido_18-18b\" class=\"contenido_b\">b</div>\n",
    "    <div id=\"contenido_18-18c\" class=\"contenido_c\">c</div>\n",
    "    <div id=\"contenido_18-18d\" class=\"contenido_d\">d</div>\n",
    "    <div id=\"contenido_18-18e\" class=\"contenido_e\">e</div>\n",
    "</div>\n",
    "<style>\n",
    "    #contenedor_18-18 {\n",
    "        flex-wrap: wrap;\n",
    "        align-content: space-between;\n",
    "            }\n",
    "</style>"
   ]
  },
  {
   "cell_type": "markdown",
   "metadata": {},
   "source": [
    "<p style=\"text-align: center\"><a rel=\"license\" href=\"http://creativecommons.org/licenses/by/4.0/\"><img alt=\"Licencia Creative Commons\" style=\"border-width:0\" src=\"https://i.creativecommons.org/l/by/4.0/80x15.png\" /></a><br />Esta obra está bajo una <a rel=\"license\" href=\"http://creativecommons.org/licenses/by/4.0/\">Licencia Creative Commons Atribución 4.0 Internacional</a>.</p>\n",
    "<p style=\"text-align: center\">&copy; José Luis Chiquete Valdivieso. 2019.</p>"
   ]
  }
 ],
 "metadata": {
  "kernelspec": {
   "display_name": "Python 3",
   "language": "python",
   "name": "python3"
  },
  "language_info": {
   "codemirror_mode": {
    "name": "ipython",
    "version": 3
   },
   "file_extension": ".py",
   "mimetype": "text/x-python",
   "name": "python",
   "nbconvert_exporter": "python",
   "pygments_lexer": "ipython3",
   "version": "3.7.3"
  }
 },
 "nbformat": 4,
 "nbformat_minor": 2
}
