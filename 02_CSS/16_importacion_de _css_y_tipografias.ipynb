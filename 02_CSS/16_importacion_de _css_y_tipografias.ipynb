{
 "cells": [
  {
   "cell_type": "markdown",
   "metadata": {},
   "source": [
    "[![imagenes/pythonista.png](imagenes/pythonista.png)](https://pythonista.io)"
   ]
  },
  {
   "cell_type": "markdown",
   "metadata": {},
   "source": [
    "## Importación de un documento *CSS* con ```@import```.\n",
    "\n",
    "La regla ```@import``` se utiliza para importar otras hojas de estilo.\n",
    "\n",
    "Para importar una hoja de estilo localizada en un archivo local se usa la siguiente sintaxis:\n",
    "\n",
    "```\n",
    "@import '<ruta>';\n",
    "```\n",
    "\n",
    "Para importar una hoja de estilo localizada en una *URL* se usa la siguiente sintaxis:\n",
    "\n",
    "```\n",
    "@import url('<URL>');\n",
    "```\n",
    "\n",
    "Las reglas ```@import``` siempre dene estar al pricipio del documento *CSS*.\n"
   ]
  },
  {
   "cell_type": "code",
   "execution_count": null,
   "metadata": {},
   "outputs": [],
   "source": [
    "%%html\n",
    "\n",
    "<style>\n",
    "    @import url('https://fonts.googleapis.com/css?family=Montserrat&display=swap');\n",
    "</style>"
   ]
  },
  {
   "cell_type": "code",
   "execution_count": null,
   "metadata": {},
   "outputs": [],
   "source": [
    "%%html\n",
    "<div id=\"ejemplo_16-1\">Saludos.</div>"
   ]
  },
  {
   "cell_type": "code",
   "execution_count": null,
   "metadata": {},
   "outputs": [],
   "source": [
    "%%html\n",
    "\n",
    "<style>\n",
    "   #ejemplo_16-1 {\n",
    "    font-family: 'Montserrat', sanserif;\n",
    "    }\n",
    "</style>"
   ]
  },
  {
   "cell_type": "markdown",
   "metadata": {},
   "source": [
    "### Importar una o varias fuentes tipográficas con ```@font-face```.\n",
    "\n",
    "En caso de utilizar una o varias tipografía que no se encuentre instalada localmente, se utiliza ```@font-face```.\n",
    "\n",
    "```\n",
    "@font-face {\n",
    "    <parámetro 1>;\n",
    "    <parámetro 2>;\n",
    "    ...\n",
    "    ...\n",
    "    <parámetro n>;\n",
    "    }\n",
    "```\n",
    "\n",
    "Los parámetros que utiliza ```@font-face``` para descargar e instalar la tipografía que se le indica es:\n",
    "\n",
    "* ```font-family```, indicando el nombre que se le dará a la fuente tipográfica y que se usará como referencia.\n",
    "* ```src``` , incluye las posibles localizaciones de la fuente.\n",
    "    * Se usa ```local``` en caso de que la fuente se encuentre localmente.\n",
    "    * Se usa ```url``` en caso de que la fuente se encuentre en un sito externo.\n",
    "    * ```format``` es el formato de archivo de la fuente tipográfica. \n",
    "\n",
    "Los formatos de archivo de fuentes tipográficas soportadas son:\n",
    "* ```eot```\n",
    "* ```woff```\n",
    "* ```ttf```\n",
    "* ```svg```\n",
    "\n",
    "Cabe hacer notar que algunos estos formatos tienen soporte limitado entre navegadores."
   ]
  },
  {
   "cell_type": "markdown",
   "metadata": {},
   "source": [
    "\n",
    "**Ejemplo:**"
   ]
  },
  {
   "cell_type": "code",
   "execution_count": null,
   "metadata": {},
   "outputs": [],
   "source": [
    "%%html\n",
    "<div id=\"ejemplo_16-2\">Lorem ipsum dolor sit amet, consectetur\n",
    "adipiscing elit, sed do eiusmod tempor incididunt ut labore \n",
    "et dolore magna aliqua. Ut enim ad minim veniam, quis nostrud \n",
    "exercitation ullamco laboris nisi ut aliquip ex ea commodo \n",
    "consequat. Duis aute irure dolor in reprehenderit in voluptate \n",
    "velit esse cillum dolore eu fugiat nulla pariatur.</div>"
   ]
  },
  {
   "cell_type": "code",
   "execution_count": null,
   "metadata": {
    "scrolled": true
   },
   "outputs": [],
   "source": [
    "%%html\n",
    "<style>\n",
    "    @font-face {\n",
    "        font-family: MiPrimeraFuente;\n",
    "        src: local('Racing Sans One'), local('RacingSansOne-Regular'),\n",
    "        url(https://fonts.gstatic.com/s/racingsansone/v5/sykr-yRtm7EvTrXNxkv5jfKKyDCAJnDnapI.woff2) format('woff2');\n",
    "    }\n",
    "    \n",
    "    #ejemplo_16-2 {\n",
    "        font-family: MiPrimeraFuente;\n",
    "        font-size: 1.2em;\n",
    "    }\n",
    "</style>"
   ]
  },
  {
   "cell_type": "code",
   "execution_count": null,
   "metadata": {},
   "outputs": [],
   "source": [
    "%%html\n",
    "<style>\n",
    "@import url('https://fonts.googleapis.com/css?family=Indie+Flower&display=swap');\n",
    "\n",
    "#ejemplo_16-3{\n",
    "    font-family: \"Indie Flower\", cursive;\n",
    "    font-size: 2em;\n",
    "}\n",
    "\n",
    "</style> \n",
    "\n",
    "<div id=\"ejemplo_16-3\">Lorem ipsum dolor sit amet, consectetur adipiscing elit, s\n",
    "ed do eiusmod tempor incididunt ut labore et dolore magna aliqua.</div>"
   ]
  },
  {
   "cell_type": "code",
   "execution_count": null,
   "metadata": {},
   "outputs": [],
   "source": []
  },
  {
   "cell_type": "markdown",
   "metadata": {},
   "source": [
    "<p style=\"text-align: center\"><a rel=\"license\" href=\"http://creativecommons.org/licenses/by/4.0/\"><img alt=\"Licencia Creative Commons\" style=\"border-width:0\" src=\"https://i.creativecommons.org/l/by/4.0/80x15.png\" /></a><br />Esta obra está bajo una <a rel=\"license\" href=\"http://creativecommons.org/licenses/by/4.0/\">Licencia Creative Commons Atribución 4.0 Internacional</a>.</p>\n",
    "<p style=\"text-align: center\">&copy; José Luis Chiquete Valdivieso. 2019.</p>"
   ]
  }
 ],
 "metadata": {
  "kernelspec": {
   "display_name": "Python 3",
   "language": "python",
   "name": "python3"
  },
  "language_info": {
   "codemirror_mode": {
    "name": "ipython",
    "version": 3
   },
   "file_extension": ".py",
   "mimetype": "text/x-python",
   "name": "python",
   "nbconvert_exporter": "python",
   "pygments_lexer": "ipython3",
   "version": "3.7.3"
  }
 },
 "nbformat": 4,
 "nbformat_minor": 2
}
