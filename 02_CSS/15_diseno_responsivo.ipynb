{
 "cells": [
  {
   "cell_type": "markdown",
   "metadata": {},
   "source": [
    "[![imagenes/pythonista.png](imagenes/pythonista.png)](https://pythonista.io)"
   ]
  },
  {
   "cell_type": "markdown",
   "metadata": {},
   "source": [
    "# Diseño responsivo.\n",
    "\n",
    "Debido a la gran variedad de clientes, medios y formatos en los que puede ser desplegado un documento HTML, se creó  el concepto de diseño responsivo.\n",
    "\n",
    "El diseño responsivo se define como la aplicación de distintas reglas de estilo e incluso scripts que permitan ajustar el contenido en función del  medio y dimensiones en la que el contenido será desplegado."
   ]
  },
  {
   "cell_type": "markdown",
   "metadata": {},
   "source": [
    "## La regla ```@media```.\n",
    "\n",
    "Esta regla permite definir una condición a la cual se le apliquen una serie de reglas. A estas se le conoce como consulta del  medio  o *media query*.\n",
    "\n",
    "```\n",
    "@media \"<medio y condiciones 1>\" {\n",
    "<reglas>\n",
    "}\n",
    "\n",
    "@media \"<medio y condiciones 2>\" {\n",
    "<reglas>\n",
    "}\n",
    "...\n",
    "...\n",
    "@media \"<medio y condiciones n>\" {\n",
    "<reglas>\n",
    "}\n",
    "```\n"
   ]
  },
  {
   "cell_type": "markdown",
   "metadata": {},
   "source": [
    "### Medios.\n",
    "\n",
    "Es  posible definir los siguientes medios.\n",
    "* ```screen```\n",
    "* ```print```\n",
    "* ```speech```\n",
    "* ```all```"
   ]
  },
  {
   "cell_type": "markdown",
   "metadata": {},
   "source": [
    "#### Operadores para los medios.\n",
    "\n",
    "* ```not``` se usa para denotar lo contrario de la condición.\n",
    "* ```and``` permite combinar una caracterísitica adicional."
   ]
  },
  {
   "cell_type": "markdown",
   "metadata": {},
   "source": [
    "### Evaluación de las características.\n",
    "\n",
    "Para evaluar una característica se utiliza la siguiente sintaxis.\n",
    "\n",
    "``` \n",
    "(<característica 1 >: <valor 1>) <operador 1> (<característica 2>: <valor 2>) <operador 2>... <operador n-1> (<característica n>: <valor n>)\n",
    "```\n",
    "\n",
    "La regla ```@media``` soporta múltiples características que pueden ser detectadas. Las más comunes son:\n",
    "\n",
    "* ```max-width```\n",
    "* ```max-height```\n",
    "* ```max-resolution```\n",
    "* ```min-width```\n",
    "* ```min-height```\n",
    "* ```min-resolution```\n",
    "* ```orientation```, la cual puede tener los valores:\n",
    "    * ```portrait``` \n",
    "    * ```landscape```\n",
    "* ```aspect-ratio```\n",
    "\n",
    "\n",
    "Para ver la totalidad de las caracterísiticas es posible consultar \n",
    "https://www.w3schools.com/cssref/css3_pr_mediaquery.asp"
   ]
  },
  {
   "cell_type": "markdown",
   "metadata": {},
   "source": [
    "#### Operadores.\n",
    "\n",
    "Las características pueden usar los siguientes operadores:\n",
    "\n",
    "* ```not```\n",
    "* ```and```\n",
    "* ```or```"
   ]
  },
  {
   "cell_type": "markdown",
   "metadata": {},
   "source": [
    "El documento *HTML* [```ejemplos/prototipo-responsivo.html```](ejemplos/prototipo-responsivo.html) hace referencia a lo archivo *CSS* [```ejemplos/responsivo.css```](ejemplos/responsivo.css)"
   ]
  },
  {
   "cell_type": "markdown",
   "metadata": {},
   "source": [
    "<p style=\"text-align: center\"><a rel=\"license\" href=\"http://creativecommons.org/licenses/by/4.0/\"><img alt=\"Licencia Creative Commons\" style=\"border-width:0\" src=\"https://i.creativecommons.org/l/by/4.0/80x15.png\" /></a><br />Esta obra está bajo una <a rel=\"license\" href=\"http://creativecommons.org/licenses/by/4.0/\">Licencia Creative Commons Atribución 4.0 Internacional</a>.</p>\n",
    "<p style=\"text-align: center\">&copy; José Luis Chiquete Valdivieso. 2019.</p>"
   ]
  }
 ],
 "metadata": {
  "kernelspec": {
   "display_name": "Python 3",
   "language": "python",
   "name": "python3"
  },
  "language_info": {
   "codemirror_mode": {
    "name": "ipython",
    "version": 3
   },
   "file_extension": ".py",
   "mimetype": "text/x-python",
   "name": "python",
   "nbconvert_exporter": "python",
   "pygments_lexer": "ipython3",
   "version": "3.7.3"
  }
 },
 "nbformat": 4,
 "nbformat_minor": 2
}
